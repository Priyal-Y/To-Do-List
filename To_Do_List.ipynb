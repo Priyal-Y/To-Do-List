{
  "nbformat": 4,
  "nbformat_minor": 0,
  "metadata": {
    "colab": {
      "name": "To Do List.ipynb",
      "provenance": [],
      "authorship_tag": "ABX9TyOgrch1Na+GIuckMEvGU+bK",
      "include_colab_link": true
    },
    "kernelspec": {
      "name": "python3",
      "display_name": "Python 3"
    },
    "language_info": {
      "name": "python"
    }
  },
  "cells": [
    {
      "cell_type": "markdown",
      "metadata": {
        "id": "view-in-github",
        "colab_type": "text"
      },
      "source": [
        "<a href=\"https://colab.research.google.com/github/Priyal-Y/To-Do-List/blob/main/To_Do_List.ipynb\" target=\"_parent\"><img src=\"https://colab.research.google.com/assets/colab-badge.svg\" alt=\"Open In Colab\"/></a>"
      ]
    },
    {
      "cell_type": "code",
      "execution_count": null,
      "metadata": {
        "id": "_I-8-z_gVoDw"
      },
      "outputs": [],
      "source": [
        "# Initializing the python to do list GUI window\n",
        "root = Tk()\n",
        "root.title('TechVidvan To-Do List')\n",
        "root.geometry('300x400')\n",
        "root.resizable(0, 0)\n",
        "root.config(bg=\"PaleVioletRed\")\n",
        "\n",
        "# Heading Label\n",
        "Label(root, text='TechVidvan Python To Do List', bg='PaleVioletRed', font=(\"Comic Sans MS\", 15), wraplength=300).place(x=35, y=0)\n",
        "\n",
        "# Listbox with all the tasks with a Scrollbar\n",
        "tasks = Listbox(root, selectbackground='Gold', bg='Silver', font=('Helvetica', 12), height=12, width=25)\n",
        "\n",
        "scroller = Scrollbar(root, orient=VERTICAL, command=tasks.yview)\n",
        "scroller.place(x=260, y=50, height=232)\n",
        "\n",
        "tasks.config(yscrollcommand=scroller.set)\n",
        "\n",
        "tasks.place(x=35, y=50)\n",
        "\n",
        "# Adding items to the Listbox\n",
        "with open('tasks.txt', 'r+') as tasks_list:\n",
        "    for task in tasks_list:\n",
        "        tasks.insert(END, task)\n",
        "    tasks_list.close()\n",
        "\n",
        "# Creating the Entry widget where the user can enter a new item\n",
        "new_item_entry = Entry(root, width=37)\n",
        "new_item_entry.place(x=35, y=310)\n",
        "\n",
        "# Creating the Buttons\n",
        "add_btn = Button(root, text='Add Item', bg='Azure', width=10, font=('Helvetica', 12),\n",
        "                 command=lambda: add_item"
      ]
    }
  ]
}